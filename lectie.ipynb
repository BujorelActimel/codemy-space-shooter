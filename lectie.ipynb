{
 "cells": [
  {
   "cell_type": "markdown",
   "id": "66780d03",
   "metadata": {},
   "source": [
    "# Lectie python 2 iunie\n",
    "\n",
    "!important\n",
    "ca sa rulezi codul iti trebuie pygame !!!COMMUITY EDITION!!!\n",
    "poti sa il instalezi cu:\n",
    "```bash\n",
    "pip install pygame-ce\n",
    "```\n",
    "Daca ai deja pygame instalat, mai intail trebuie sters. Poti sterge cu comanda:\n",
    "```bash\n",
    "pip uninstall pygame\n",
    "```\n",
    "\n",
    "Ca sa verifici ca ai doar pygame CE instalat poti verifica:\n",
    "daca pygame normal este instalat\n",
    "```bash\n",
    "pip show pygame\n",
    "```\n",
    "si dupa aceea daca community edition este instalat:\n",
    "```bash\n",
    "pip show pygame-ce\n",
    "```"
   ]
  },
  {
   "cell_type": "markdown",
   "id": "a637c153",
   "metadata": {},
   "source": [
    "## 1. Animatie explozie meteorit\n",
    "\n",
    "1. import imaginile cu frameurile exploziei\n",
    "2. clasa Explosion\n",
    "3. cand un laser loveste un meteorit, instantiam clasa Explosion\n",
    "4. se arata animatia si instanta dispare"
   ]
  },
  {
   "cell_type": "markdown",
   "id": "1cc456c5",
   "metadata": {},
   "source": [
    "Inainte de implementare, o mica discutie, cum am putea implementa o animatie?\n",
    "Ce este defapt o animatie? -> Mai multe imagini(frames) redate rapid una dupa alta\n",
    "Putem replica efectul asta cu ce stim deja? (sprites)"
   ]
  },
  {
   "cell_type": "code",
   "execution_count": null,
   "id": "940baff3",
   "metadata": {},
   "outputs": [],
   "source": [
    "# Implementare\n",
    "# vom avea nevoie de acele frameuri\n",
    "# deci in sectiunea de import\n",
    "# vom da import la frameuri\n",
    "\n",
    "#import\n",
    "star_image = pygame.image.load(\"images/star.png\").convert_alpha()\n",
    "laser_image = pygame.image.load(\"images/laser.png\").convert_alpha()\n",
    "meteor_image = pygame.image.load(\"images/meteor.png\").convert_alpha()\n",
    "# adauga aceste linii de cod:\n",
    "explosion_frames = []\n",
    "for i in range(21): # de la 0 la 20\n",
    "    frame_path = f\"images/explosion/{i}.png\" # formatul fisierelor este nr.png (0.png, 1.png, ...)\n",
    "    frame = pygame.image.load(frame_path) # incarcam imaginea\n",
    "    frame = frame.convert_alpha() # nu uitam sa dam convert_alpha\n",
    "    explosion_frames.append(frame) # adaugam in lista de frame_uri\n",
    "print(explosion_frames) # vedem ce se afiseaza in consola (Ar trebui sa fie o lista de suprafete)\n"
   ]
  },
  {
   "cell_type": "code",
   "execution_count": null,
   "id": "940c44ca",
   "metadata": {},
   "outputs": [],
   "source": [
    "# Implementare\n",
    "# vom avea nevoie de acele frameuri\n",
    "# deci in sectiunea de import\n",
    "# vom da import la frameuri\n",
    "\n",
    "#import\n",
    "star_image = pygame.image.load(\"images/star.png\").convert_alpha()\n",
    "laser_image = pygame.image.load(\"images/laser.png\").convert_alpha()\n",
    "meteor_image = pygame.image.load(\"images/meteor.png\").convert_alpha()\n",
    "# putem scrie totul intr-o singura linie de cod cu list comprehension:\n",
    "explosion_frames = [pygame.image.load(f\"images/explosion/{i}.png\").convert_alpha() for i in range(21)]\n",
    "print(explosion_frames)"
   ]
  },
  {
   "cell_type": "code",
   "execution_count": null,
   "id": "9b7ad61c",
   "metadata": {},
   "outputs": [],
   "source": [
    "# prim exercitiu:\n",
    "# creati o clasa AnimatedExplosion care mosteneste din Sprite\n",
    "# ca valori initiale dati frameurile, pozitia si groups\n",
    "# dati ca imagine primul frame\n",
    "# cand un laser atinge un meteorit, creeati o instanta a aceste clase\n",
    "\n",
    "# implementare:\n",
    "class AnimatedExplosion(pygame.sprite.Sprite):\n",
    "    def __init__(self, frames, pos, groups):\n",
    "        super().__init__(groups)\n",
    "        self.image = frames[0]\n",
    "        self.rect = self.image.get_frect(center = pos)\n",
    "\n",
    "# in clasa Laser, metoda update:\n",
    "def update(self, dt):\n",
    "    self.rect.centery -= self.speed * dt\n",
    "    if self.rect.bottom <= 0:\n",
    "        self.kill()\n",
    "    if pygame.sprite.spritecollide(self, meteor_sprites, True, pygame.sprite.collide_mask):\n",
    "        self.kill()\n",
    "        # creeaza o instanta a clasei AnimatedExplosion la impact cu un meteorit\n",
    "        AnimatedExplosion(explosion_frames, self.rect.center, all_sprites)"
   ]
  },
  {
   "cell_type": "markdown",
   "id": "5957d08b",
   "metadata": {},
   "source": [
    "Acum daca rulam codul, vom vedea ca atunci cand impuscam un meteorit, va aparea primul\n",
    "frame din animatia de explozie si va ramane acolo\n",
    "Acum trebuie sa facem cumva astfel incat sa aratam toate frameurile si dupa sa distrugem\n",
    "instanta clasei"
   ]
  },
  {
   "cell_type": "code",
   "execution_count": null,
   "id": "d4d9110d",
   "metadata": {},
   "outputs": [],
   "source": [
    "# clasa va arata asa:\n",
    "class AnimatedExplosion(pygame.sprite.Sprite):\n",
    "    def __init__(self, frames, pos, groups):\n",
    "        super().__init__(groups)\n",
    "        self.frames = frames # am creeat atributul frames ca sa le putem folosi in alte metode\n",
    "        self.frame_index = 0 # care frame va fi aratat\n",
    "        self.image = frames[self.frame_index]\n",
    "        self.rect = self.image.get_frect(center = pos)\n",
    "\n",
    "    def update(self, dt): # in fiecare frame\n",
    "        self.frame_index += 40 * dt # adaugam la 'index' viteza animatiei(40) * dt\n",
    "        if self.frame_index < len(self.frames): # daca nu am trecut de cele 20 de frameuri\n",
    "            self.image = self.frames[int(self.frame_index)] # afisez frame-ul curent\n",
    "        else: # altfel\n",
    "            self.kill() # distrug instanta clasei"
   ]
  },
  {
   "cell_type": "markdown",
   "id": "dc5cfc0d",
   "metadata": {},
   "source": [
    "## 2. Sunet\n",
    "\n",
    "Exercitiu: Cautati in documentatia pygame-ce ([docs](https://pyga.me/docs/)) \n",
    "cum se creeaza un sound object"
   ]
  },
  {
   "cell_type": "code",
   "execution_count": null,
   "id": "8f34a395",
   "metadata": {},
   "outputs": [],
   "source": [
    "# cu: pygame.mixer.Sound\n",
    "# in sectiunea import dati import la un sunet\n",
    "\n",
    "#import\n",
    "star_image = pygame.image.load(\"images/star.png\").convert_alpha()\n",
    "laser_image = pygame.image.load(\"images/laser.png\").convert_alpha()\n",
    "meteor_image = pygame.image.load(\"images/meteor.png\").convert_alpha()\n",
    "explosion_frames = [pygame.image.load(f\"images/explosion/{i}.png\").convert_alpha() for i in range(21)]\n",
    "# adauga linia asta de cod:\n",
    "laser_sound = pygame.mixer.Sound(\"audio/laser.wav\")\n",
    "\n",
    "\n",
    "# iar in metoda init din laser (adica cand creeam laserul) dam play la sunet\n",
    "def __init__(self, pos, image, groups):\n",
    "        super().__init__(groups)\n",
    "        self.image = image\n",
    "        self.rect = self.image.get_frect(center = pos)\n",
    "        self.speed = 700\n",
    "        laser_sound.play() # adauga aceasta linie"
   ]
  },
  {
   "cell_type": "code",
   "execution_count": null,
   "id": "9b0df899",
   "metadata": {},
   "outputs": [],
   "source": [
    "# daca e prea puternic sunetul, poti seta volumul cu metoda set_volume() atunci cand dam import\n",
    "...\n",
    "laser_sound = pygame.mixer.Sound(\"audio/laser.wav\")\n",
    "laser_sound.set_volume(0.5) # argument un numar intre 0 si 1"
   ]
  },
  {
   "cell_type": "markdown",
   "id": "f9d0b6ab",
   "metadata": {},
   "source": [
    "exercitiu:\n",
    "dati import la celelalte sunete si dati-le play cand considerati ca ar trebui dat play\n",
    "cand player-ul e lovit poti da si un fadeout la muzica"
   ]
  },
  {
   "cell_type": "code",
   "execution_count": null,
   "id": "6af090ef",
   "metadata": {},
   "outputs": [],
   "source": [
    "laser_sound = pygame.mixer.Sound(\"audio/laser.wav\")\n",
    "laser_sound.set_volume(0.5)\n",
    "explosion_sound = pygame.mixer.Sound(\"audio/explosion.wav\")\n",
    "game_music = pygame.mixer.Sound(\"audio/game_music.wav\")\n",
    "game_music.set_volume(0.4)\n",
    "game_music.play(loops=-1) # loops=-1 da loop la infinit"
   ]
  },
  {
   "cell_type": "code",
   "execution_count": null,
   "id": "19542940",
   "metadata": {},
   "outputs": [],
   "source": [
    "class AnimatedExplosion(pygame.sprite.Sprite):\n",
    "    def __init__(self, frames, pos, groups):\n",
    "        super().__init__(groups)\n",
    "        self.frames = frames\n",
    "        self.frame_index = 0\n",
    "        self.image = frames[self.frame_index]\n",
    "        self.rect = self.image.get_frect(center = pos)\n",
    "        explosion_sound.play() # adauga sunetul\n",
    "    ..."
   ]
  },
  {
   "cell_type": "markdown",
   "id": "19ce0bbb",
   "metadata": {},
   "source": [
    "daca mai e timp poti face un highscore mechanic. Adica doar scrii intr un fisier\n",
    "highscoreul. Daca scorul curent e mai mare scrii ceva in plus pe ecran cand mori \n",
    "si dai update la highscoreul din fisier.\n",
    "\n",
    "Daca mai au copiii requesturi de feature-uri puteti incerca sa le implementati, dar\n",
    "nu ii lasa sa arunce numa cu idei. Daca au o idee, trebuie sa vina si cu o idee de \n",
    "implementare.\n",
    "\n",
    "La final daca mai ai timp te-as ruga sa vorbesti putin cu ei de o idee de joc final\n",
    "pe care sa il fac cu ei impreuna in ultimele sedinte, ca un fel de final project."
   ]
  }
 ],
 "metadata": {
  "kernelspec": {
   "display_name": "Python 3",
   "language": "python",
   "name": "python3"
  },
  "language_info": {
   "codemirror_mode": {
    "name": "ipython",
    "version": 3
   },
   "file_extension": ".py",
   "mimetype": "text/x-python",
   "name": "python",
   "nbconvert_exporter": "python",
   "pygments_lexer": "ipython3",
   "version": "3.12.4"
  }
 },
 "nbformat": 4,
 "nbformat_minor": 5
}
